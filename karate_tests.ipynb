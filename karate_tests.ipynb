{
  "cells": [
    {
      "cell_type": "markdown",
      "metadata": {
        "id": "Mrei-vvGvTXm"
      },
      "source": [
        "# Generate Karate API Tests with Llama 3.1\n",
        "\n",
        "This notebook generates Karate API tests from an OpenAPI JSON specification using Llama 3.1 in Google Colab. Tests are saved as `.feature` files in `karate_tests`.\n",
        "\n",
        "## Prerequisites\n",
        "- Upload `openapi.json` to Colab.\n",
        "- Ensure internet access for Ollama.\n",
        "- Libraries: `json`, `os`, `argparse`, `ollama`.\n"
      ]
    },
    {
      "cell_type": "code",
      "execution_count": null,
      "metadata": {
        "id": "xAivAq94vTXo"
      },
      "outputs": [],
      "source": [
        "# Install and set up Ollama\n",
        "!pip install ollama\n",
        "!curl -fsSL https://ollama.com/install.sh | sh"
      ]
    },
    {
      "cell_type": "code",
      "source": [
        "# Start Ollama server\n",
        "import subprocess\n",
        "import time\n",
        "process = subprocess.Popen(\"ollama serve\", shell=True)\n",
        "time.sleep(5)\n",
        "\n"
      ],
      "metadata": {
        "id": "bax3V-QBBh82"
      },
      "execution_count": 2,
      "outputs": []
    },
    {
      "cell_type": "code",
      "source": [
        "# Pull Llama 3.1:8b\n",
        "!ollama pull llama3.1:8b\n",
        "#!ollama pull llama3.1:7b"
      ],
      "metadata": {
        "id": "44y0B0BFBm7f"
      },
      "execution_count": null,
      "outputs": []
    },
    {
      "cell_type": "code",
      "source": [
        "!pip install --upgrade langchain langchain_community"
      ],
      "metadata": {
        "id": "jAtwrHU0FNxv"
      },
      "execution_count": null,
      "outputs": []
    },
    {
      "cell_type": "code",
      "source": [
        "# Initialize Ollama client\n",
        "from langchain.llms import Ollama\n",
        "llm = Ollama(model=\"llama3.1:8b\")"
      ],
      "metadata": {
        "colab": {
          "base_uri": "https://localhost:8080/"
        },
        "id": "PVaBd-BHBoO1",
        "outputId": "0529071d-d266-4020-8f9d-148fa3e397e6"
      },
      "execution_count": 5,
      "outputs": [
        {
          "output_type": "stream",
          "name": "stderr",
          "text": [
            "<ipython-input-5-5a2cbe471249>:3: LangChainDeprecationWarning: The class `Ollama` was deprecated in LangChain 0.3.1 and will be removed in 1.0.0. An updated version of the class exists in the :class:`~langchain-ollama package and should be used instead. To use it run `pip install -U :class:`~langchain-ollama` and import as `from :class:`~langchain_ollama import OllamaLLM``.\n",
            "  llm = Ollama(model=\"llama3.1:8b\")\n"
          ]
        }
      ]
    },
    {
      "cell_type": "code",
      "execution_count": 9,
      "metadata": {
        "colab": {
          "base_uri": "https://localhost:8080/"
        },
        "id": "K4P5UPN3vTXp",
        "outputId": "3a98d4b7-f395-47fc-b845-15aa1dbfa611"
      },
      "outputs": [
        {
          "output_type": "stream",
          "name": "stdout",
          "text": [
            "OpenAPI spec loaded successfully\n"
          ]
        }
      ],
      "source": [
        "# Load OpenAPI JSON specification\n",
        "import json\n",
        "import os\n",
        "\n",
        "def load_openapi_spec(file_path):\n",
        "    if not os.path.exists(file_path):\n",
        "        raise FileNotFoundError(f\"File not found: {file_path}\")\n",
        "    with open(file_path, 'r') as file:\n",
        "        return json.load(file)\n",
        "\n",
        "# Load spec\n",
        "try:\n",
        "    spec = load_openapi_spec('openapi.json')\n",
        "    print(\"OpenAPI spec loaded successfully\")\n",
        "except Exception as e:\n",
        "    print(f\"Error loading spec: {e}\")"
      ]
    },
    {
      "cell_type": "code",
      "execution_count": 10,
      "metadata": {
        "colab": {
          "base_uri": "https://localhost:8080/"
        },
        "id": "MGT8EQW9vTXp",
        "outputId": "9765051f-7030-4b0d-d434-1da5592d83f7"
      },
      "outputs": [
        {
          "output_type": "stream",
          "name": "stdout",
          "text": [
            "Extracted 3 endpoints\n"
          ]
        }
      ],
      "source": [
        "# Extract endpoints from OpenAPI spec\n",
        "from copy import deepcopy\n",
        "\n",
        "def extract_referenced_schemas(schema, components_schemas, collected_schemas=None):\n",
        "    if collected_schemas is None:\n",
        "        collected_schemas = set()\n",
        "    if not schema or not isinstance(schema, dict):\n",
        "        return collected_schemas\n",
        "    if '$ref' in schema:\n",
        "        ref = schema['$ref']\n",
        "        if ref.startswith('#/components/schemas/'):\n",
        "            schema_name = ref.split('/')[-1]\n",
        "            if schema_name not in collected_schemas:\n",
        "                collected_schemas.add(schema_name)\n",
        "                if schema_name in components_schemas:\n",
        "                    schema_def = components_schemas[schema_name]\n",
        "                    extract_referenced_schemas(schema_def, components_schemas, collected_schemas)\n",
        "    else:\n",
        "        if 'properties' in schema:\n",
        "            for prop_value in schema['properties'].values():\n",
        "                extract_referenced_schemas(prop_value, components_schemas, collected_schemas)\n",
        "        if 'items' in schema:\n",
        "            extract_referenced_schemas(schema['items'], components_schemas, collected_schemas)\n",
        "        if 'additionalProperties' in schema and isinstance(schema['additionalProperties'], dict):\n",
        "            extract_referenced_schemas(schema['additionalProperties'], components_schemas, collected_schemas)\n",
        "        for combine_key in ['allOf', 'anyOf', 'oneOf']:\n",
        "            if combine_key in schema:\n",
        "                for sub_schema in schema[combine_key]:\n",
        "                    extract_referenced_schemas(sub_schema, components_schemas, collected_schemas)\n",
        "        for key, value in schema.items():\n",
        "            if isinstance(value, dict):\n",
        "                extract_referenced_schemas(value, components_schemas, collected_schemas)\n",
        "            elif isinstance(value, list):\n",
        "                for item in value:\n",
        "                    extract_referenced_schemas(item, components_schemas, collected_schemas)\n",
        "    return collected_schemas\n",
        "\n",
        "def create_endpoint_spec(original_spec, path, method, endpoint_schemas):\n",
        "    endpoint_spec = {\n",
        "        'openapi': original_spec['openapi'],\n",
        "        'info': original_spec['info'],\n",
        "        'servers': original_spec['servers'],\n",
        "        'paths': {path: {method: deepcopy(original_spec['paths'][path][method])}},\n",
        "        'components': {'schemas': {}}\n",
        "    }\n",
        "    for schema_name in endpoint_schemas:\n",
        "        if schema_name in original_spec['components']['schemas']:\n",
        "            endpoint_spec['components']['schemas'][schema_name] = deepcopy(\n",
        "                original_spec['components']['schemas'][schema_name]\n",
        "            )\n",
        "    return endpoint_spec\n",
        "\n",
        "# Extract endpoints\n",
        "endpoint_specs = []\n",
        "components_schemas = spec.get('components', {}).get('schemas', {})\n",
        "for path in spec['paths']:\n",
        "    for method in spec['paths'][path]:\n",
        "        endpoint_schemas = set()\n",
        "        request_body = spec['paths'][path][method].get('requestBody', {})\n",
        "        content = request_body.get('content', {}).get('application/json', {})\n",
        "        if content.get('schema'):\n",
        "            endpoint_schemas.update(extract_referenced_schemas(content['schema'], components_schemas))\n",
        "        for response_code, response in spec['paths'][path][method].get('responses', {}).items():\n",
        "            content = response.get('content', {}).get('application/json', {})\n",
        "            if content.get('schema'):\n",
        "                endpoint_schemas.update(extract_referenced_schemas(content['schema'], components_schemas))\n",
        "        endpoint_spec = create_endpoint_spec(spec, path, method, endpoint_schemas)\n",
        "        endpoint_specs.append({'spec': endpoint_spec, 'path': path, 'method': method})\n",
        "print(f\"Extracted {len(endpoint_specs)} endpoints\")"
      ]
    },
    {
      "cell_type": "code",
      "source": [
        "endpoint_specs"
      ],
      "metadata": {
        "id": "WRD4aZ-28KXr"
      },
      "execution_count": null,
      "outputs": []
    },
    {
      "cell_type": "code",
      "execution_count": 12,
      "metadata": {
        "colab": {
          "base_uri": "https://localhost:8080/"
        },
        "id": "20bDbaMXvTXq",
        "outputId": "5bae22d9-8882-4c9a-daec-468e96e3bd55"
      },
      "outputs": [
        {
          "output_type": "stream",
          "name": "stdout",
          "text": [
            "Generating test for POST /users\n",
            "Generating test for GET /users/{userId}\n",
            "Generating test for POST /orders\n",
            "Generated tests in karate_tests\n"
          ]
        }
      ],
      "source": [
        "# Generate Karate tests with Llama 3.1\n",
        "def clean_json_string(json_str):\n",
        "    return ''.join(c for c in json_str if c.isprintable() or c in '\\n\\t')\n",
        "\n",
        "def generate_karate_test(endpoint_spec, path, method, output_dir):\n",
        "    try:\n",
        "        endpoint_spec_json = json.dumps(endpoint_spec, indent=2, ensure_ascii=False)\n",
        "        endpoint_spec_json = clean_json_string(endpoint_spec_json)\n",
        "        json.loads(endpoint_spec_json)\n",
        "    except json.JSONDecodeError as e:\n",
        "        print(f\"JSON error for {method.upper()} {path}: {e}\")\n",
        "        with open(f\"{output_dir}/debug_{path.replace('/', '_')}_{method}.json\", 'w') as f:\n",
        "            f.write(endpoint_spec_json)\n",
        "        return\n",
        "    except Exception as e:\n",
        "        print(f\"Error serializing JSON for {method.upper()} {path}: {e}\")\n",
        "        return\n",
        "\n",
        "    prompt = f\"\"\"\n",
        "You are an expert in API testing and Karate DSL. Below is an OpenAPI specification for a single endpoint in JSON format. Generate a Karate feature file to test this endpoint with:\n",
        "\n",
        "1. `Feature` title using the endpoint's summary or path/method.\n",
        "2. `Background` with base URL from `servers` and JSON headers.\n",
        "3. A `Scenario` for a successful request:\n",
        "   - Define path parameters (e.g., `/users/{{userId}}`) with test values.\n",
        "   - For POST/PUT, include a request body using schema examples or defaults.\n",
        "   - Validate response status (200 for GET, 201 for POST) and required fields.\n",
        "4. A `Scenario` for an error case (e.g., 400 or 404) if applicable.\n",
        "\n",
        "OpenAPI spec:\n",
        "\n",
        "```json\n",
        "{endpoint_spec_json}\n",
        "```\n",
        "\n",
        "Return only the Karate feature file content starting with `Feature:`.\n",
        "\"\"\"\n",
        "\n",
        "    try:\n",
        "        response = llm.generate(prompts=[prompt])\n",
        "        feature_content = response.generations[0][0].text\n",
        "        if not feature_content.strip():\n",
        "            print(f\"Empty response for {method.upper()} {path}\")\n",
        "            return\n",
        "    except Exception as e:\n",
        "        print(f\"Error generating test for {method.upper()} {path}: {e}\")\n",
        "        return\n",
        "\n",
        "    os.makedirs(output_dir, exist_ok=True)\n",
        "    feature_file = f\"{output_dir}/{path.replace('/', '_')}_{method}.feature\"\n",
        "    with open(feature_file, 'w') as f:\n",
        "        f.write(feature_content)\n",
        "\n",
        "# Generate tests for all endpoints\n",
        "output_dir = 'karate_tests'\n",
        "for endpoint in endpoint_specs:\n",
        "    path = endpoint['path']\n",
        "    method = endpoint['method']\n",
        "    endpoint_spec = endpoint['spec']\n",
        "    print(f\"Generating test for {method.upper()} {path}\")\n",
        "    generate_karate_test(endpoint_spec, path, method, output_dir)\n",
        "print(f\"Generated tests in {output_dir}\")"
      ]
    },
    {
      "cell_type": "code",
      "source": [
        "# Generate tests for all endpoints\n",
        "output_dir = 'karate_tests'\n",
        "endpoint_specs[0]\n",
        "path = endpoint_specs[0]['path']\n",
        "method = endpoint_specs[0]['method']\n",
        "endpoint_spec = endpoint_specs[0]['spec']\n",
        "print(f\"Generating test for {method.upper()} {path}\")\n",
        "#generate_karate_test(endpoint_spec, path, method, output_dir)\n",
        "\n",
        "prompt = f\"\"\"\n",
        "You are an expert in API testing and Karate DSL. Below is an OpenAPI specification for a single endpoint in JSON format. Generate a Karate feature file to test this endpoint with:\n",
        "\n",
        "1. `Feature` title using the endpoint's summary or path/method.\n",
        "2. `Background` with base URL from `servers` and JSON headers.\n",
        "3. A `Scenario` for a successful request:\n",
        "   - Define path parameters (e.g., `/users/{{userId}}`) with test values.\n",
        "   - For POST/PUT, include a request body using schema examples or defaults.\n",
        "   - Validate response status (200 for GET, 201 for POST) and required fields.\n",
        "4. A `Scenario` for an error case (e.g., 400 or 404) if applicable.\n",
        "\n",
        "OpenAPI spec:\n",
        "\n",
        "```json\n",
        "{endpoint_spec}\n",
        "```\n",
        "\n",
        "Return only the Karate feature file content starting with `Feature:`.\n",
        "\"\"\"\n",
        "\n",
        "#response = llm.invoke(prompt)\n",
        "response = llm.generate(prompts=[prompt])\n",
        "#feature_content = response['response']\n",
        "print(f\"Generated tests in {response}\")"
      ],
      "metadata": {
        "colab": {
          "base_uri": "https://localhost:8080/"
        },
        "id": "FoMVLZKPBAMq",
        "outputId": "3c1b0764-b841-412a-e01d-2a6eb73cf2b0"
      },
      "execution_count": 14,
      "outputs": [
        {
          "output_type": "stream",
          "name": "stdout",
          "text": [
            "Generating test for POST /users\n",
            "Generated tests in generations=[[GenerationChunk(text='Here is the Karate feature file content based on the provided OpenAPI specification:\\n\\n```feature\\nFeature: Create a new user\\n\\nBackground:\\n* url baseDir = \\'https://api.example.com/v1\\'\\n* header Authorization = \\'Bearer YOUR_API_KEY\\' // Replace YOUR_API_KEY with your actual API key\\n* header Content-Type = \\'application/json\\'\\n\\nScenario: Successful creation of a new user\\nGiven path \\'/users\\'\\nAnd param userId = \\'user_123\\'\\nAnd request {\\n    \"name\": \"John Doe\",\\n    \"email\": \"john.doe@example.com\",\\n    \"preferences\": {\"theme\": \"dark\", \"notifications\": \"enabled\"},\\n    \"addresses\": [\\n        {\"street\": \"123 Main St\", \"city\": \"Springfield\", \"country\": \"USA\", \"zipCode\": \"62701\"}\\n    ]\\n}\\nWhen method post\\nThen status 201\\nAnd match response.id == \\'user_123\\'\\nAnd match response.name == \\'John Doe\\'\\nAnd match response.email == \\'john.doe@example.com\\'\\nAnd match response.preferences == {\"theme\": \"dark\", \"notifications\": \"enabled\"}\\nAnd match response.addresses[0] == {\\n    \"street\": \"123 Main St\",\\n    \"city\": \"Springfield\",\\n    \"country\": \"USA\",\\n    \"zipCode\": \"62701\"\\n}\\nAnd match response.createdAt match regex /^\\\\d{4}-\\\\d{2}-\\\\d{2}T\\\\d{2}:\\\\d{2}:\\\\d{2}\\\\.\\\\d+Z$/\\n\\nScenario: Invalid input (400 error)\\nGiven path \\'/users\\'\\nAnd param userId = \\'invalid_user_id\\'\\nAnd request {\\n    \"name\": \"\",\\n    \"email\": \"\",\\n    \"preferences\": {\"theme\": \"\"},\\n    \"addresses\": [\\n        {\"street\": \"\", \"city\": \"\", \"country\": \"\"}\\n    ]\\n}\\nWhen method post\\nThen status 400\\nAnd match response.code == \\'INVALID_INPUT\\'\\nAnd match response.message == \\'Invalid request parameters\\'\\nAnd match response.details[0].field == \\'name\\'\\nAnd match response.details[0].issue == \\'Missing value\\'\\n```', generation_info={'model': 'llama3.1:8b', 'created_at': '2025-04-21T01:34:23.892723722Z', 'response': '', 'done': True, 'done_reason': 'stop', 'context': [128006, 882, 128007, 1432, 2675, 527, 459, 6335, 304, 5446, 7649, 323, 13528, 349, 46658, 13, 21883, 374, 459, 5377, 7227, 26185, 369, 264, 3254, 15233, 304, 4823, 3645, 13, 20400, 264, 13528, 349, 4668, 1052, 311, 1296, 420, 15233, 449, 1473, 16, 13, 1595, 14180, 63, 2316, 1701, 279, 15233, 596, 12399, 477, 1853, 92937, 627, 17, 13, 1595, 8879, 63, 449, 2385, 5665, 505, 1595, 68796, 63, 323, 4823, 7247, 627, 18, 13, 362, 1595, 55131, 63, 369, 264, 6992, 1715, 512, 256, 482, 19127, 1853, 5137, 320, 68, 1326, 2637, 38401, 4312, 9573, 13816, 5658, 8, 449, 1296, 2819, 627, 256, 482, 1789, 13165, 14, 6353, 11, 2997, 264, 1715, 2547, 1701, 11036, 10507, 477, 17088, 627, 256, 482, 24163, 2077, 2704, 320, 1049, 369, 8049, 11, 220, 679, 369, 13165, 8, 323, 2631, 5151, 627, 19, 13, 362, 1595, 55131, 63, 369, 459, 1493, 1162, 320, 68, 1326, 2637, 220, 3443, 477, 220, 7507, 8, 422, 8581, 382, 5109, 7227, 1424, 1473, 74694, 2285, 198, 13922, 2569, 2113, 1232, 364, 18, 13, 15, 13, 18, 518, 364, 2801, 1232, 5473, 2150, 1232, 364, 18031, 5446, 449, 72842, 45178, 518, 364, 4789, 1232, 364, 2127, 5446, 45296, 24997, 15407, 11, 18893, 11, 6302, 11, 323, 14370, 304, 7540, 323, 14847, 518, 364, 4464, 1232, 364, 16, 13, 15, 13, 15, 25762, 364, 68796, 1232, 62208, 1103, 1232, 364, 2485, 1129, 2113, 7880, 916, 5574, 16, 8439, 1145, 364, 22354, 1232, 5473, 14, 4312, 1232, 5473, 2252, 1232, 5473, 1743, 1232, 364, 4110, 264, 502, 1217, 518, 364, 2079, 5561, 1232, 5473, 6413, 1232, 3082, 11, 364, 1834, 1232, 5473, 5242, 9108, 1232, 5473, 17801, 1232, 5473, 3, 1116, 1232, 5999, 14, 5260, 2754, 32226, 34611, 4110, 1939, 23742, 39254, 364, 72100, 1232, 5473, 679, 1232, 5473, 4789, 1232, 364, 1502, 3549, 7946, 518, 364, 1834, 1232, 5473, 5242, 9108, 1232, 5473, 17801, 1232, 5473, 3, 1116, 1232, 5999, 14, 5260, 2754, 32226, 34611, 2647, 23742, 39254, 364, 3443, 1232, 5473, 4789, 1232, 364, 8087, 1988, 518, 364, 1834, 1232, 5473, 5242, 9108, 1232, 5473, 17801, 1232, 5473, 3, 1116, 1232, 5999, 14, 5260, 2754, 32226, 14, 57001, 23742, 3500, 3500, 39254, 364, 5260, 1232, 5473, 57643, 1232, 5473, 1502, 2647, 1232, 5473, 1337, 1232, 364, 1735, 518, 364, 13495, 1232, 5473, 307, 1232, 5473, 1337, 1232, 364, 928, 518, 364, 8858, 1232, 364, 882, 62, 4513, 25762, 364, 609, 1232, 5473, 1337, 1232, 364, 928, 518, 364, 8858, 1232, 364, 13379, 50728, 25762, 364, 2386, 1232, 5473, 1337, 1232, 364, 928, 518, 364, 2293, 1232, 364, 2386, 518, 364, 8858, 1232, 364, 48917, 962, 4748, 36587, 916, 25762, 364, 62089, 1232, 5473, 1337, 1232, 364, 1735, 518, 364, 36599, 8062, 1232, 5473, 1337, 1232, 364, 928, 25762, 364, 8858, 1232, 5473, 9224, 1232, 364, 23449, 518, 364, 39288, 1232, 364, 16247, 8439, 2186, 364, 54889, 1232, 5473, 1337, 1232, 364, 1686, 518, 364, 3699, 1232, 5473, 3, 1116, 1232, 5999, 14, 5260, 2754, 32226, 14, 4383, 8439, 2186, 364, 43865, 1232, 5473, 1337, 1232, 364, 928, 518, 364, 2293, 1232, 364, 1045, 7394, 518, 364, 8858, 1232, 364, 2366, 20, 12, 2371, 12, 777, 51, 717, 25, 410, 25, 410, 57, 23742, 2186, 364, 4383, 1232, 5473, 1337, 1232, 364, 1735, 518, 364, 6413, 1232, 2570, 28451, 518, 364, 9103, 518, 364, 11389, 4181, 364, 13495, 1232, 5473, 28451, 1232, 5473, 1337, 1232, 364, 928, 518, 364, 8858, 1232, 364, 4513, 4802, 800, 25762, 364, 9103, 1232, 5473, 1337, 1232, 364, 928, 518, 364, 8858, 1232, 364, 26208, 2630, 25762, 364, 11389, 1232, 5473, 1337, 1232, 364, 928, 518, 364, 8858, 1232, 364, 25342, 25762, 364, 10169, 2123, 1232, 5473, 1337, 1232, 364, 928, 518, 364, 8858, 1232, 364, 23103, 1721, 23742, 2186, 364, 57001, 1232, 5473, 1337, 1232, 364, 1735, 518, 364, 13495, 1232, 5473, 1889, 1232, 5473, 1337, 1232, 364, 928, 518, 364, 8858, 1232, 364, 47959, 21698, 25762, 364, 2037, 1232, 5473, 1337, 1232, 364, 928, 518, 364, 8858, 1232, 364, 8087, 1715, 5137, 25762, 364, 15216, 1232, 5473, 1337, 1232, 364, 1686, 518, 364, 3699, 1232, 5473, 1337, 1232, 364, 1735, 518, 364, 13495, 1232, 5473, 2630, 1232, 5473, 1337, 1232, 364, 928, 518, 364, 8858, 1232, 364, 2386, 25762, 364, 11407, 1232, 5473, 1337, 1232, 364, 928, 518, 364, 8858, 1232, 364, 8087, 2613, 3645, 23742, 3500, 39254, 364, 1502, 4110, 1939, 1232, 5473, 1337, 1232, 364, 1735, 518, 364, 6413, 1232, 2570, 609, 518, 364, 2386, 518, 364, 62089, 4181, 364, 13495, 1232, 5473, 609, 1232, 5473, 1337, 1232, 364, 928, 518, 364, 8858, 1232, 364, 13379, 50728, 25762, 364, 2386, 1232, 5473, 1337, 1232, 364, 928, 518, 364, 2293, 1232, 364, 2386, 518, 364, 8858, 1232, 364, 48917, 962, 4748, 36587, 916, 25762, 364, 62089, 1232, 5473, 1337, 1232, 364, 1735, 518, 364, 36599, 8062, 1232, 5473, 1337, 1232, 364, 928, 25762, 364, 8858, 1232, 5473, 9224, 1232, 364, 23449, 518, 364, 39288, 1232, 364, 16247, 8439, 2186, 364, 54889, 1232, 5473, 1337, 1232, 364, 1686, 518, 364, 3699, 1232, 5473, 3, 1116, 1232, 5999, 14, 5260, 2754, 32226, 14, 4383, 23742, 3500, 3500, 534, 14196, 19884, 5715, 1193, 279, 13528, 349, 4668, 1052, 2262, 6041, 449, 1595, 14180, 25, 19154, 128009, 128006, 78191, 128007, 271, 8586, 374, 279, 13528, 349, 4668, 1052, 2262, 3196, 389, 279, 3984, 5377, 7227, 26185, 1473, 74694, 13043, 198, 14180, 25, 4324, 264, 502, 1217, 271, 8879, 512, 9, 2576, 2385, 6315, 284, 364, 2485, 1129, 2113, 7880, 916, 5574, 16, 1270, 9, 4342, 31662, 284, 364, 27497, 21592, 11669, 6738, 6, 443, 30658, 21592, 11669, 6738, 449, 701, 5150, 5446, 1401, 198, 9, 4342, 9059, 11038, 284, 364, 5242, 9108, 3961, 55131, 25, 46626, 9886, 315, 264, 502, 1217, 198, 22818, 1853, 3434, 4312, 1270, 3112, 1719, 10542, 284, 364, 882, 62, 4513, 1270, 3112, 1715, 341, 262, 330, 609, 794, 330, 13379, 50728, 761, 262, 330, 2386, 794, 330, 48917, 962, 4748, 36587, 916, 761, 262, 330, 62089, 794, 5324, 9224, 794, 330, 23449, 498, 330, 39288, 794, 330, 16247, 7260, 262, 330, 54889, 794, 2330, 286, 5324, 28451, 794, 330, 4513, 4802, 800, 498, 330, 9103, 794, 330, 26208, 2630, 498, 330, 11389, 794, 330, 25342, 498, 330, 10169, 2123, 794, 330, 23103, 1721, 17122, 262, 5243, 534, 4599, 1749, 1772, 198, 12487, 2704, 220, 679, 198, 3112, 2489, 2077, 1801, 624, 364, 882, 62, 4513, 1270, 3112, 2489, 2077, 2710, 624, 364, 13379, 50728, 1270, 3112, 2489, 2077, 10048, 624, 364, 48917, 962, 4748, 36587, 916, 1270, 3112, 2489, 2077, 89027, 624, 5324, 9224, 794, 330, 23449, 498, 330, 39288, 794, 330, 16247, 17122, 3112, 2489, 2077, 14111, 288, 58, 15, 60, 624, 341, 262, 330, 28451, 794, 330, 4513, 4802, 800, 761, 262, 330, 9103, 794, 330, 26208, 2630, 761, 262, 330, 11389, 794, 330, 25342, 761, 262, 330, 10169, 2123, 794, 330, 23103, 1721, 702, 534, 3112, 2489, 2077, 66721, 2489, 20791, 82057, 67, 90, 19, 20312, 59, 67, 90, 17, 20312, 59, 67, 90, 17, 92, 51, 35587, 90, 17, 92, 7338, 67, 90, 17, 92, 7338, 67, 90, 17, 11281, 7255, 67, 10, 57, 3, 8851, 55131, 25, 14204, 1988, 320, 3443, 1493, 340, 22818, 1853, 3434, 4312, 1270, 3112, 1719, 10542, 284, 364, 12071, 3398, 851, 1270, 3112, 1715, 341, 262, 330, 609, 794, 8488, 262, 330, 2386, 794, 8488, 262, 330, 62089, 794, 5324, 9224, 794, 78596, 262, 330, 54889, 794, 2330, 286, 5324, 28451, 794, 7492, 330, 9103, 794, 7492, 330, 11389, 794, 94296, 262, 5243, 534, 4599, 1749, 1772, 198, 12487, 2704, 220, 3443, 198, 3112, 2489, 2077, 10421, 624, 364, 47959, 21698, 1270, 3112, 2489, 2077, 6837, 624, 364, 8087, 1715, 5137, 1270, 3112, 2489, 2077, 43417, 58, 15, 948, 2630, 624, 364, 609, 1270, 3112, 2489, 2077, 43417, 58, 15, 948, 11407, 624, 364, 26136, 907, 1270, 74694], 'total_duration': 13319296610, 'load_duration': 27324122, 'prompt_eval_count': 877, 'prompt_eval_duration': 9054990, 'eval_count': 433, 'eval_duration': 13281696144})]] llm_output=None run=[RunInfo(run_id=UUID('3e7cb2f8-827b-4980-bcd2-dba9b4b5b43c'))] type='LLMResult'\n"
          ]
        }
      ]
    },
    {
      "cell_type": "code",
      "source": [
        "print(response.generations[0][0].text)"
      ],
      "metadata": {
        "id": "1nGw7-hBLYr_"
      },
      "execution_count": null,
      "outputs": []
    },
    {
      "cell_type": "markdown",
      "metadata": {
        "id": "xiaqP5E-vTXq"
      },
      "source": [
        "## How to Use\n",
        "1. **Upload Input**: Upload `openapi.json` to Colab via file explorer or:\n",
        "   ```python\n",
        "   from google.colab import files\n",
        "   uploaded = files.upload()\n",
        "   ```\n",
        "2. **Run Cells**:\n",
        "   - Execute each code cell in order.\n",
        "   - Check output for errors (e.g., JSON issues, Llama 3.1 failures).\n",
        "3. **Check Output**: Find `.feature` files in `karate_tests` directory.\n",
        "4. **Run Tests**: Download files, use Karate locally:\n",
        "   ```bash\n",
        "   karate karate_tests/*.feature\n",
        "   ```\n",
        "\n",
        "## Notes\n",
        "- **JSON Fix**: `clean_json_string` removes invalid characters. Debug files (e.g., `debug_users_post.json`) help if errors persist.\n",
        "- **Colab**: Ensure resources for Ollama. Use local machine if issues occur.\n",
        "- **Output**: Expect `_users_post.feature`, `_users_{userId}_get.feature`, `_orders_post.feature`.\n",
        "- **Testing**: Update API URL in feature files if needed. Use mock server if no API.\n",
        "- **Debugging**: Check debug JSON files for JSON errors. Preprocess `openapi.json` if needed:\n",
        "   ```python\n",
        "   with open('openapi.json', 'r') as f:\n",
        "       data = json.load(f)\n",
        "   with open('openapi_clean.json', 'w') as f:\n",
        "       json.dump(data, f, ensure_ascii=False, indent=2)\n",
        "   ```"
      ]
    }
  ],
  "metadata": {
    "kernelspec": {
      "display_name": "Python 3",
      "name": "python3"
    },
    "language_info": {
      "codemirror_mode": {
        "name": "ipython",
        "version": 3
      },
      "file_extension": ".py",
      "mimetype": "text/x-python",
      "name": "python",
      "nbconvert_exporter": "python",
      "pygments_lexer": "ipython3",
      "version": "3.8.10"
    },
    "colab": {
      "provenance": [],
      "gpuType": "T4"
    },
    "accelerator": "GPU"
  },
  "nbformat": 4,
  "nbformat_minor": 0
}